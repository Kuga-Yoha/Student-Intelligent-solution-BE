{
 "cells": [
  {
   "cell_type": "code",
   "execution_count": 1,
   "id": "c05fce88",
   "metadata": {},
   "outputs": [],
   "source": [
    "import pandas as pd\n",
    "import numpy as np\n",
    "import matplotlib.pyplot as plt"
   ]
  },
  {
   "cell_type": "code",
   "execution_count": 2,
   "id": "beb90b0e",
   "metadata": {},
   "outputs": [],
   "source": [
    "df = pd.read_csv(\"D:\\CC\\SEM 3\\COMP 258 Neural Networks\\Assignments\\Group Project\\Student data.csv\")"
   ]
  },
  {
   "cell_type": "code",
   "execution_count": 3,
   "id": "35ab5a6f",
   "metadata": {},
   "outputs": [
    {
     "data": {
      "text/html": [
       "<div>\n",
       "<style scoped>\n",
       "    .dataframe tbody tr th:only-of-type {\n",
       "        vertical-align: middle;\n",
       "    }\n",
       "\n",
       "    .dataframe tbody tr th {\n",
       "        vertical-align: top;\n",
       "    }\n",
       "\n",
       "    .dataframe thead th {\n",
       "        text-align: right;\n",
       "    }\n",
       "</style>\n",
       "<table border=\"1\" class=\"dataframe\">\n",
       "  <thead>\n",
       "    <tr style=\"text-align: right;\">\n",
       "      <th></th>\n",
       "      <th>First Term Gpa</th>\n",
       "      <th>Second Term Gpa</th>\n",
       "      <th>First Language</th>\n",
       "      <th>Funding</th>\n",
       "      <th>School</th>\n",
       "      <th>FastTrack</th>\n",
       "      <th>Coop</th>\n",
       "      <th>Residency</th>\n",
       "      <th>Gender</th>\n",
       "      <th>Previous Education</th>\n",
       "      <th>Age Group</th>\n",
       "      <th>High School</th>\n",
       "      <th>Math Score</th>\n",
       "      <th>English Grade</th>\n",
       "      <th>FirstYearPersistence</th>\n",
       "    </tr>\n",
       "  </thead>\n",
       "  <tbody>\n",
       "    <tr>\n",
       "      <th>0</th>\n",
       "      <td>0</td>\n",
       "      <td>0</td>\n",
       "      <td>1</td>\n",
       "      <td>2</td>\n",
       "      <td>6</td>\n",
       "      <td>2</td>\n",
       "      <td>1</td>\n",
       "      <td>1</td>\n",
       "      <td>2</td>\n",
       "      <td>1</td>\n",
       "      <td>1</td>\n",
       "      <td>59</td>\n",
       "      <td>16</td>\n",
       "      <td>7</td>\n",
       "      <td>1</td>\n",
       "    </tr>\n",
       "    <tr>\n",
       "      <th>1</th>\n",
       "      <td>2.5</td>\n",
       "      <td>2</td>\n",
       "      <td>3</td>\n",
       "      <td>4</td>\n",
       "      <td>6</td>\n",
       "      <td>1</td>\n",
       "      <td>2</td>\n",
       "      <td>2</td>\n",
       "      <td>2</td>\n",
       "      <td>1</td>\n",
       "      <td>3</td>\n",
       "      <td>?</td>\n",
       "      <td>?</td>\n",
       "      <td>7</td>\n",
       "      <td>1</td>\n",
       "    </tr>\n",
       "    <tr>\n",
       "      <th>2</th>\n",
       "      <td>4.25</td>\n",
       "      <td>3.923077</td>\n",
       "      <td>1</td>\n",
       "      <td>1</td>\n",
       "      <td>6</td>\n",
       "      <td>2</td>\n",
       "      <td>1</td>\n",
       "      <td>1</td>\n",
       "      <td>1</td>\n",
       "      <td>2</td>\n",
       "      <td>3</td>\n",
       "      <td>92</td>\n",
       "      <td>41</td>\n",
       "      <td>9</td>\n",
       "      <td>1</td>\n",
       "    </tr>\n",
       "    <tr>\n",
       "      <th>3</th>\n",
       "      <td>3.020833</td>\n",
       "      <td>2.321429</td>\n",
       "      <td>3</td>\n",
       "      <td>4</td>\n",
       "      <td>6</td>\n",
       "      <td>1</td>\n",
       "      <td>2</td>\n",
       "      <td>2</td>\n",
       "      <td>2</td>\n",
       "      <td>2</td>\n",
       "      <td>3</td>\n",
       "      <td>?</td>\n",
       "      <td>?</td>\n",
       "      <td>8</td>\n",
       "      <td>1</td>\n",
       "    </tr>\n",
       "    <tr>\n",
       "      <th>4</th>\n",
       "      <td>4.275</td>\n",
       "      <td>4.326923</td>\n",
       "      <td>1</td>\n",
       "      <td>2</td>\n",
       "      <td>6</td>\n",
       "      <td>1</td>\n",
       "      <td>1</td>\n",
       "      <td>1</td>\n",
       "      <td>1</td>\n",
       "      <td>2</td>\n",
       "      <td>3</td>\n",
       "      <td>97</td>\n",
       "      <td>?</td>\n",
       "      <td>9</td>\n",
       "      <td>1</td>\n",
       "    </tr>\n",
       "  </tbody>\n",
       "</table>\n",
       "</div>"
      ],
      "text/plain": [
       "  First Term Gpa Second Term Gpa First Language  Funding  School  FastTrack  \\\n",
       "0              0               0              1        2       6          2   \n",
       "1            2.5               2              3        4       6          1   \n",
       "2           4.25        3.923077              1        1       6          2   \n",
       "3       3.020833        2.321429              3        4       6          1   \n",
       "4          4.275        4.326923              1        2       6          1   \n",
       "\n",
       "   Coop  Residency  Gender Previous Education Age Group High School  \\\n",
       "0     1          1       2                  1         1          59   \n",
       "1     2          2       2                  1         3           ?   \n",
       "2     1          1       1                  2         3          92   \n",
       "3     2          2       2                  2         3           ?   \n",
       "4     1          1       1                  2         3          97   \n",
       "\n",
       "  Math Score English Grade  FirstYearPersistence  \n",
       "0         16             7                     1  \n",
       "1          ?             7                     1  \n",
       "2         41             9                     1  \n",
       "3          ?             8                     1  \n",
       "4          ?             9                     1  "
      ]
     },
     "execution_count": 3,
     "metadata": {},
     "output_type": "execute_result"
    }
   ],
   "source": [
    "df.head()"
   ]
  },
  {
   "cell_type": "code",
   "execution_count": 4,
   "id": "fb7061f8",
   "metadata": {},
   "outputs": [
    {
     "data": {
      "text/plain": [
       "(1437, 15)"
      ]
     },
     "execution_count": 4,
     "metadata": {},
     "output_type": "execute_result"
    }
   ],
   "source": [
    "df.shape"
   ]
  },
  {
   "cell_type": "code",
   "execution_count": 5,
   "id": "ec373c5a",
   "metadata": {},
   "outputs": [
    {
     "data": {
      "text/html": [
       "<div>\n",
       "<style scoped>\n",
       "    .dataframe tbody tr th:only-of-type {\n",
       "        vertical-align: middle;\n",
       "    }\n",
       "\n",
       "    .dataframe tbody tr th {\n",
       "        vertical-align: top;\n",
       "    }\n",
       "\n",
       "    .dataframe thead th {\n",
       "        text-align: right;\n",
       "    }\n",
       "</style>\n",
       "<table border=\"1\" class=\"dataframe\">\n",
       "  <thead>\n",
       "    <tr style=\"text-align: right;\">\n",
       "      <th></th>\n",
       "      <th>Funding</th>\n",
       "      <th>School</th>\n",
       "      <th>FastTrack</th>\n",
       "      <th>Coop</th>\n",
       "      <th>Residency</th>\n",
       "      <th>Gender</th>\n",
       "      <th>FirstYearPersistence</th>\n",
       "    </tr>\n",
       "  </thead>\n",
       "  <tbody>\n",
       "    <tr>\n",
       "      <th>count</th>\n",
       "      <td>1437.000000</td>\n",
       "      <td>1437.0</td>\n",
       "      <td>1437.000000</td>\n",
       "      <td>1437.000000</td>\n",
       "      <td>1437.000000</td>\n",
       "      <td>1437.000000</td>\n",
       "      <td>1437.000000</td>\n",
       "    </tr>\n",
       "    <tr>\n",
       "      <th>mean</th>\n",
       "      <td>2.926931</td>\n",
       "      <td>6.0</td>\n",
       "      <td>1.741823</td>\n",
       "      <td>1.695198</td>\n",
       "      <td>1.406402</td>\n",
       "      <td>1.774530</td>\n",
       "      <td>0.791928</td>\n",
       "    </tr>\n",
       "    <tr>\n",
       "      <th>std</th>\n",
       "      <td>1.257658</td>\n",
       "      <td>0.0</td>\n",
       "      <td>0.437784</td>\n",
       "      <td>0.460484</td>\n",
       "      <td>0.491332</td>\n",
       "      <td>0.419699</td>\n",
       "      <td>0.406070</td>\n",
       "    </tr>\n",
       "    <tr>\n",
       "      <th>min</th>\n",
       "      <td>1.000000</td>\n",
       "      <td>6.0</td>\n",
       "      <td>1.000000</td>\n",
       "      <td>1.000000</td>\n",
       "      <td>1.000000</td>\n",
       "      <td>1.000000</td>\n",
       "      <td>0.000000</td>\n",
       "    </tr>\n",
       "    <tr>\n",
       "      <th>25%</th>\n",
       "      <td>2.000000</td>\n",
       "      <td>6.0</td>\n",
       "      <td>1.000000</td>\n",
       "      <td>1.000000</td>\n",
       "      <td>1.000000</td>\n",
       "      <td>2.000000</td>\n",
       "      <td>1.000000</td>\n",
       "    </tr>\n",
       "    <tr>\n",
       "      <th>50%</th>\n",
       "      <td>2.000000</td>\n",
       "      <td>6.0</td>\n",
       "      <td>2.000000</td>\n",
       "      <td>2.000000</td>\n",
       "      <td>1.000000</td>\n",
       "      <td>2.000000</td>\n",
       "      <td>1.000000</td>\n",
       "    </tr>\n",
       "    <tr>\n",
       "      <th>75%</th>\n",
       "      <td>4.000000</td>\n",
       "      <td>6.0</td>\n",
       "      <td>2.000000</td>\n",
       "      <td>2.000000</td>\n",
       "      <td>2.000000</td>\n",
       "      <td>2.000000</td>\n",
       "      <td>1.000000</td>\n",
       "    </tr>\n",
       "    <tr>\n",
       "      <th>max</th>\n",
       "      <td>9.000000</td>\n",
       "      <td>6.0</td>\n",
       "      <td>2.000000</td>\n",
       "      <td>2.000000</td>\n",
       "      <td>2.000000</td>\n",
       "      <td>3.000000</td>\n",
       "      <td>1.000000</td>\n",
       "    </tr>\n",
       "  </tbody>\n",
       "</table>\n",
       "</div>"
      ],
      "text/plain": [
       "           Funding  School    FastTrack         Coop    Residency  \\\n",
       "count  1437.000000  1437.0  1437.000000  1437.000000  1437.000000   \n",
       "mean      2.926931     6.0     1.741823     1.695198     1.406402   \n",
       "std       1.257658     0.0     0.437784     0.460484     0.491332   \n",
       "min       1.000000     6.0     1.000000     1.000000     1.000000   \n",
       "25%       2.000000     6.0     1.000000     1.000000     1.000000   \n",
       "50%       2.000000     6.0     2.000000     2.000000     1.000000   \n",
       "75%       4.000000     6.0     2.000000     2.000000     2.000000   \n",
       "max       9.000000     6.0     2.000000     2.000000     2.000000   \n",
       "\n",
       "            Gender  FirstYearPersistence  \n",
       "count  1437.000000           1437.000000  \n",
       "mean      1.774530              0.791928  \n",
       "std       0.419699              0.406070  \n",
       "min       1.000000              0.000000  \n",
       "25%       2.000000              1.000000  \n",
       "50%       2.000000              1.000000  \n",
       "75%       2.000000              1.000000  \n",
       "max       3.000000              1.000000  "
      ]
     },
     "execution_count": 5,
     "metadata": {},
     "output_type": "execute_result"
    }
   ],
   "source": [
    "df.describe()"
   ]
  },
  {
   "cell_type": "code",
   "execution_count": 6,
   "id": "53fc9877",
   "metadata": {},
   "outputs": [
    {
     "name": "stdout",
     "output_type": "stream",
     "text": [
      "<class 'pandas.core.frame.DataFrame'>\n",
      "RangeIndex: 1437 entries, 0 to 1436\n",
      "Data columns (total 15 columns):\n",
      " #   Column                Non-Null Count  Dtype \n",
      "---  ------                --------------  ----- \n",
      " 0   First Term Gpa        1437 non-null   object\n",
      " 1   Second Term Gpa       1437 non-null   object\n",
      " 2   First Language        1437 non-null   object\n",
      " 3   Funding               1437 non-null   int64 \n",
      " 4   School                1437 non-null   int64 \n",
      " 5   FastTrack             1437 non-null   int64 \n",
      " 6   Coop                  1437 non-null   int64 \n",
      " 7   Residency             1437 non-null   int64 \n",
      " 8   Gender                1437 non-null   int64 \n",
      " 9   Previous Education    1437 non-null   object\n",
      " 10  Age Group             1437 non-null   object\n",
      " 11  High School           1437 non-null   object\n",
      " 12  Math Score            1437 non-null   object\n",
      " 13  English Grade         1437 non-null   object\n",
      " 14  FirstYearPersistence  1437 non-null   int64 \n",
      "dtypes: int64(7), object(8)\n",
      "memory usage: 168.5+ KB\n"
     ]
    }
   ],
   "source": [
    "df.info()"
   ]
  },
  {
   "cell_type": "markdown",
   "id": "531566a6",
   "metadata": {},
   "source": [
    "### Preprocessing"
   ]
  },
  {
   "cell_type": "code",
   "execution_count": 7,
   "id": "518492d5",
   "metadata": {},
   "outputs": [],
   "source": [
    "df = df.apply(pd.to_numeric, errors='coerce', downcast='float')"
   ]
  },
  {
   "cell_type": "code",
   "execution_count": 8,
   "id": "b123c0e1",
   "metadata": {},
   "outputs": [],
   "source": [
    "%matplotlib inline"
   ]
  },
  {
   "cell_type": "code",
   "execution_count": 9,
   "id": "7b021376",
   "metadata": {},
   "outputs": [
    {
     "data": {
      "text/plain": [
       "array([[<Axes: title={'center': 'First Term Gpa'}>,\n",
       "        <Axes: title={'center': 'Second Term Gpa'}>,\n",
       "        <Axes: title={'center': 'First Language'}>,\n",
       "        <Axes: title={'center': 'Funding'}>],\n",
       "       [<Axes: title={'center': 'School'}>,\n",
       "        <Axes: title={'center': 'FastTrack'}>,\n",
       "        <Axes: title={'center': 'Coop'}>,\n",
       "        <Axes: title={'center': 'Residency'}>],\n",
       "       [<Axes: title={'center': 'Gender'}>,\n",
       "        <Axes: title={'center': 'Previous Education'}>,\n",
       "        <Axes: title={'center': 'Age Group'}>,\n",
       "        <Axes: title={'center': 'High School'}>],\n",
       "       [<Axes: title={'center': 'Math Score'}>,\n",
       "        <Axes: title={'center': 'English Grade'}>,\n",
       "        <Axes: title={'center': 'FirstYearPersistence'}>, <Axes: >]],\n",
       "      dtype=object)"
      ]
     },
     "execution_count": 9,
     "metadata": {},
     "output_type": "execute_result"
    },
    {
     "data": {
      "image/png": "[encoded data removed]",
      "text/plain": [
       "<Figure size 1000x1000 with 16 Axes>"
      ]
     },
     "metadata": {},
     "output_type": "display_data"
    }
   ],
   "source": [
    "df.hist(bins=50, figsize=(10, 10))"
   ]
  },
  {
   "cell_type": "code",
   "execution_count": 10,
   "id": "62560386",
   "metadata": {},
   "outputs": [],
   "source": [
    "corr_matrix = df.corr()"
   ]
  },
  {
   "cell_type": "code",
   "execution_count": 11,
   "id": "7f7516c4",
   "metadata": {
    "scrolled": true
   },
   "outputs": [
    {
     "data": {
      "text/plain": [
       "FirstYearPersistence    1.000000\n",
       "First Term Gpa          0.551846\n",
       "Second Term Gpa         0.394999\n",
       "High School             0.263660\n",
       "Math Score              0.237287\n",
       "Residency               0.211216\n",
       "Funding                 0.192473\n",
       "First Language          0.186825\n",
       "Previous Education      0.127034\n",
       "Age Group               0.115198\n",
       "English Grade           0.041163\n",
       "Coop                    0.003219\n",
       "Gender                 -0.075247\n",
       "FastTrack              -0.180958\n",
       "School                       NaN\n",
       "Name: FirstYearPersistence, dtype: float64"
      ]
     },
     "execution_count": 11,
     "metadata": {},
     "output_type": "execute_result"
    }
   ],
   "source": [
    "corr_matrix['FirstYearPersistence'].sort_values(ascending=False)"
   ]
  },
  {
   "cell_type": "code",
   "execution_count": 12,
   "id": "502cfe5d",
   "metadata": {},
   "outputs": [],
   "source": [
    "df.drop(['School', 'Coop', 'Gender', 'English Grade', 'Age Group', 'Previous Education'], axis=1, inplace=True)"
   ]
  },
  {
   "cell_type": "code",
   "execution_count": 13,
   "id": "66a8b54d",
   "metadata": {},
   "outputs": [
    {
     "data": {
      "text/plain": [
       "Index(['First Term Gpa', 'Second Term Gpa', 'First Language', 'Funding',\n",
       "       'FastTrack', 'Residency', 'High School', 'Math Score',\n",
       "       'FirstYearPersistence'],\n",
       "      dtype='object')"
      ]
     },
     "execution_count": 13,
     "metadata": {},
     "output_type": "execute_result"
    }
   ],
   "source": [
    "df.columns"
   ]
  },
  {
   "cell_type": "code",
   "execution_count": 14,
   "id": "eb9a5395",
   "metadata": {},
   "outputs": [],
   "source": [
    "df.replace('?', np.nan, inplace=True)"
   ]
  },
  {
   "cell_type": "code",
   "execution_count": 15,
   "id": "bffc51fe",
   "metadata": {},
   "outputs": [
    {
     "name": "stdout",
     "output_type": "stream",
     "text": [
      "<class 'pandas.core.frame.DataFrame'>\n",
      "RangeIndex: 1437 entries, 0 to 1436\n",
      "Data columns (total 9 columns):\n",
      " #   Column                Non-Null Count  Dtype  \n",
      "---  ------                --------------  -----  \n",
      " 0   First Term Gpa        1420 non-null   float32\n",
      " 1   Second Term Gpa       1277 non-null   float32\n",
      " 2   First Language        1326 non-null   float32\n",
      " 3   Funding               1437 non-null   float32\n",
      " 4   FastTrack             1437 non-null   float32\n",
      " 5   Residency             1437 non-null   float32\n",
      " 6   High School           694 non-null    float32\n",
      " 7   Math Score            975 non-null    float32\n",
      " 8   FirstYearPersistence  1437 non-null   float32\n",
      "dtypes: float32(9)\n",
      "memory usage: 50.6 KB\n"
     ]
    }
   ],
   "source": [
    "df.info()"
   ]
  },
  {
   "cell_type": "code",
   "execution_count": 16,
   "id": "ffb3eab1",
   "metadata": {},
   "outputs": [
    {
     "data": {
      "text/html": [
       "<div>\n",
       "<style scoped>\n",
       "    .dataframe tbody tr th:only-of-type {\n",
       "        vertical-align: middle;\n",
       "    }\n",
       "\n",
       "    .dataframe tbody tr th {\n",
       "        vertical-align: top;\n",
       "    }\n",
       "\n",
       "    .dataframe thead th {\n",
       "        text-align: right;\n",
       "    }\n",
       "</style>\n",
       "<table border=\"1\" class=\"dataframe\">\n",
       "  <thead>\n",
       "    <tr style=\"text-align: right;\">\n",
       "      <th></th>\n",
       "      <th>First Term Gpa</th>\n",
       "      <th>Second Term Gpa</th>\n",
       "      <th>First Language</th>\n",
       "      <th>Funding</th>\n",
       "      <th>FastTrack</th>\n",
       "      <th>Residency</th>\n",
       "      <th>High School</th>\n",
       "      <th>Math Score</th>\n",
       "      <th>FirstYearPersistence</th>\n",
       "    </tr>\n",
       "  </thead>\n",
       "  <tbody>\n",
       "    <tr>\n",
       "      <th>0</th>\n",
       "      <td>0.000000</td>\n",
       "      <td>0.000000</td>\n",
       "      <td>1.0</td>\n",
       "      <td>2.0</td>\n",
       "      <td>2.0</td>\n",
       "      <td>1.0</td>\n",
       "      <td>59.0</td>\n",
       "      <td>16.0</td>\n",
       "      <td>1.0</td>\n",
       "    </tr>\n",
       "    <tr>\n",
       "      <th>1</th>\n",
       "      <td>2.500000</td>\n",
       "      <td>2.000000</td>\n",
       "      <td>3.0</td>\n",
       "      <td>4.0</td>\n",
       "      <td>1.0</td>\n",
       "      <td>2.0</td>\n",
       "      <td>NaN</td>\n",
       "      <td>NaN</td>\n",
       "      <td>1.0</td>\n",
       "    </tr>\n",
       "    <tr>\n",
       "      <th>2</th>\n",
       "      <td>4.250000</td>\n",
       "      <td>3.923077</td>\n",
       "      <td>1.0</td>\n",
       "      <td>1.0</td>\n",
       "      <td>2.0</td>\n",
       "      <td>1.0</td>\n",
       "      <td>92.0</td>\n",
       "      <td>41.0</td>\n",
       "      <td>1.0</td>\n",
       "    </tr>\n",
       "    <tr>\n",
       "      <th>3</th>\n",
       "      <td>3.020833</td>\n",
       "      <td>2.321429</td>\n",
       "      <td>3.0</td>\n",
       "      <td>4.0</td>\n",
       "      <td>1.0</td>\n",
       "      <td>2.0</td>\n",
       "      <td>NaN</td>\n",
       "      <td>NaN</td>\n",
       "      <td>1.0</td>\n",
       "    </tr>\n",
       "    <tr>\n",
       "      <th>4</th>\n",
       "      <td>4.275000</td>\n",
       "      <td>4.326923</td>\n",
       "      <td>1.0</td>\n",
       "      <td>2.0</td>\n",
       "      <td>1.0</td>\n",
       "      <td>1.0</td>\n",
       "      <td>97.0</td>\n",
       "      <td>NaN</td>\n",
       "      <td>1.0</td>\n",
       "    </tr>\n",
       "  </tbody>\n",
       "</table>\n",
       "</div>"
      ],
      "text/plain": [
       "   First Term Gpa  Second Term Gpa  First Language  Funding  FastTrack  \\\n",
       "0        0.000000         0.000000             1.0      2.0        2.0   \n",
       "1        2.500000         2.000000             3.0      4.0        1.0   \n",
       "2        4.250000         3.923077             1.0      1.0        2.0   \n",
       "3        3.020833         2.321429             3.0      4.0        1.0   \n",
       "4        4.275000         4.326923             1.0      2.0        1.0   \n",
       "\n",
       "   Residency  High School  Math Score  FirstYearPersistence  \n",
       "0        1.0         59.0        16.0                   1.0  \n",
       "1        2.0          NaN         NaN                   1.0  \n",
       "2        1.0         92.0        41.0                   1.0  \n",
       "3        2.0          NaN         NaN                   1.0  \n",
       "4        1.0         97.0         NaN                   1.0  "
      ]
     },
     "execution_count": 16,
     "metadata": {},
     "output_type": "execute_result"
    }
   ],
   "source": [
    "df.head()"
   ]
  },
  {
   "cell_type": "code",
   "execution_count": 17,
   "id": "d5bba6eb",
   "metadata": {},
   "outputs": [
    {
     "data": {
      "text/plain": [
       "(1437, 9)"
      ]
     },
     "execution_count": 17,
     "metadata": {},
     "output_type": "execute_result"
    }
   ],
   "source": [
    "df.shape"
   ]
  },
  {
   "cell_type": "code",
   "execution_count": 18,
   "id": "c9effeaf",
   "metadata": {},
   "outputs": [],
   "source": [
    "X = df.iloc[:, :8]\n",
    "y = df.iloc[:,8]"
   ]
  },
  {
   "cell_type": "code",
   "execution_count": 19,
   "id": "26d6c615",
   "metadata": {},
   "outputs": [
    {
     "name": "stdout",
     "output_type": "stream",
     "text": [
      "[1. 0.]\n",
      "1.0    1138\n",
      "0.0     299\n",
      "Name: FirstYearPersistence, dtype: int64\n"
     ]
    }
   ],
   "source": [
    "print(y.unique())\n",
    "print(y.value_counts())"
   ]
  },
  {
   "cell_type": "code",
   "execution_count": 20,
   "id": "0c94d137",
   "metadata": {},
   "outputs": [],
   "source": [
    "from sklearn.impute import SimpleImputer"
   ]
  },
  {
   "cell_type": "code",
   "execution_count": 21,
   "id": "b43f0678",
   "metadata": {},
   "outputs": [],
   "source": [
    "impute = SimpleImputer(missing_values=np.nan, strategy='mean', fill_value=None)"
   ]
  },
  {
   "cell_type": "code",
   "execution_count": 22,
   "id": "cb9e3250",
   "metadata": {},
   "outputs": [],
   "source": [
    "imputed_X = impute.fit_transform(X)"
   ]
  },
  {
   "cell_type": "code",
   "execution_count": 23,
   "id": "f36961b0",
   "metadata": {},
   "outputs": [
    {
     "data": {
      "text/plain": [
       "array([[ 0.       ,  0.       ,  1.       , ...,  1.       , 59.       ,\n",
       "        16.       ],\n",
       "       [ 2.5      ,  2.       ,  3.       , ...,  2.       , 77.15274  ,\n",
       "        32.55795  ],\n",
       "       [ 4.25     ,  3.923077 ,  1.       , ...,  1.       , 92.       ,\n",
       "        41.       ],\n",
       "       ...,\n",
       "       [ 2.020833 ,  2.45     ,  1.       , ...,  1.       , 78.       ,\n",
       "        18.       ],\n",
       "       [ 4.021739 ,  4.357143 ,  1.9110105, ...,  2.       , 77.15274  ,\n",
       "        46.       ],\n",
       "       [ 2.133333 ,  3.205882 ,  1.       , ...,  1.       , 81.       ,\n",
       "        27.       ]], dtype=float32)"
      ]
     },
     "execution_count": 23,
     "metadata": {},
     "output_type": "execute_result"
    }
   ],
   "source": [
    "imputed_X"
   ]
  },
  {
   "cell_type": "code",
   "execution_count": 24,
   "id": "425bd63a",
   "metadata": {},
   "outputs": [],
   "source": [
    "from sklearn.preprocessing import StandardScaler"
   ]
  },
  {
   "cell_type": "code",
   "execution_count": 25,
   "id": "578d39b0",
   "metadata": {},
   "outputs": [],
   "source": [
    "scaler = StandardScaler()"
   ]
  },
  {
   "cell_type": "code",
   "execution_count": 26,
   "id": "98a6bdcc",
   "metadata": {},
   "outputs": [],
   "source": [
    "scaled_X = scaler.fit_transform(imputed_X)"
   ]
  },
  {
   "cell_type": "code",
   "execution_count": 27,
   "id": "1dfbb013",
   "metadata": {},
   "outputs": [
    {
     "data": {
      "text/plain": [
       "array([[-2.4373019e+00, -2.6517158e+00, -9.5360339e-01, ...,\n",
       "        -8.2743126e-01, -2.1651967e+00, -1.8779671e+00],\n",
       "       [-2.9636785e-01, -7.7118337e-01,  1.1399034e+00, ...,\n",
       "         1.2085596e+00,  1.5705081e-07,  2.6796295e-08],\n",
       "       [ 1.2022859e+00,  1.0370210e+00, -9.5360339e-01, ...,\n",
       "        -8.2743126e-01,  1.7709305e+00,  9.5747930e-01],\n",
       "       ...,\n",
       "       [-7.0671380e-01, -3.4806353e-01, -9.5360339e-01, ...,\n",
       "        -8.2743126e-01,  1.0105838e-01, -1.6511314e+00],\n",
       "       [ 1.0068092e+00,  1.4451585e+00, -5.2448691e-08, ...,\n",
       "         1.2085596e+00,  1.5705081e-07,  1.5245686e+00],\n",
       "       [-6.1037183e-01,  3.6266676e-01, -9.5360339e-01, ...,\n",
       "        -8.2743126e-01,  4.5888817e-01, -6.3037068e-01]], dtype=float32)"
      ]
     },
     "execution_count": 27,
     "metadata": {},
     "output_type": "execute_result"
    }
   ],
   "source": [
    "scaled_X"
   ]
  },
  {
   "cell_type": "markdown",
   "id": "eb7b245c",
   "metadata": {},
   "source": [
    "### train test split"
   ]
  },
  {
   "cell_type": "code",
   "execution_count": 28,
   "id": "80e0c84a",
   "metadata": {},
   "outputs": [],
   "source": [
    "from sklearn.model_selection import train_test_split"
   ]
  },
  {
   "cell_type": "code",
   "execution_count": 29,
   "id": "46afc748",
   "metadata": {},
   "outputs": [],
   "source": [
    "X_train, X_test, y_train, y_test = train_test_split(scaled_X, y, test_size=0.2, random_state=42)"
   ]
  },
  {
   "cell_type": "code",
   "execution_count": 30,
   "id": "8e14bd35",
   "metadata": {},
   "outputs": [
    {
     "data": {
      "text/plain": [
       "(array([[ 1.1459458e+00,  1.0858423e+00, -9.5360339e-01, ...,\n",
       "         -8.2743126e-01,  5.7816476e-01, -2.9011708e-01],\n",
       "        [-5.3722292e-01, -4.2476986e-02, -9.5360339e-01, ...,\n",
       "         -8.2743126e-01, -1.9266435e+00, -1.5377135e+00],\n",
       "        [-5.1977003e-01,  2.5863186e-01,  1.1399034e+00, ...,\n",
       "         -8.2743126e-01,  5.7816476e-01,  6.1722577e-01],\n",
       "        ...,\n",
       "        [-2.2500367e-01,  4.2508934e-02,  1.1399034e+00, ...,\n",
       "          1.2085596e+00,  1.5705081e-07,  2.6796295e-08],\n",
       "        [ 4.6181653e-02,  4.5362776e-03, -9.5360339e-01, ...,\n",
       "         -8.2743126e-01, -3.7604797e-01,  3.9039007e-01],\n",
       "        [ 5.3859633e-01,  5.9647608e-01,  1.1399034e+00, ...,\n",
       "          1.2085596e+00,  1.5705081e-07,  2.6796295e-08]], dtype=float32),\n",
       " array([[-5.7040739e-01, -1.1786317e+00, -9.5360339e-01, ...,\n",
       "         -8.2743126e-01, -1.4495373e+00,  2.6796295e-08],\n",
       "        [-4.8477009e-01, -8.5294604e-01, -9.5360339e-01, ...,\n",
       "         -8.2743126e-01, -6.1460114e-01, -9.7062421e-01],\n",
       "        [-2.2138999e+00, -2.6517158e+00, -9.5360339e-01, ...,\n",
       "         -8.2743126e-01, -3.8350692e+00, -1.6511314e+00],\n",
       "        ...,\n",
       "        [-7.6348114e-01,  2.8661609e-01, -9.5360339e-01, ...,\n",
       "         -8.2743126e-01, -1.3749479e-01,  5.0136495e-02],\n",
       "        [ 6.4564306e-01,  8.9778918e-01, -5.2448691e-08, ...,\n",
       "          1.2085596e+00,  1.5705081e-07,  2.6796295e-08],\n",
       "        [-7.2455466e-01, -2.6517158e+00,  1.1399034e+00, ...,\n",
       "         -8.2743126e-01, -2.4037499e+00, -4.0353492e-01]], dtype=float32),\n",
       " 901     1.0\n",
       " 1405    1.0\n",
       " 310     1.0\n",
       " 1146    1.0\n",
       " 31      1.0\n",
       "        ... \n",
       " 1095    1.0\n",
       " 1130    1.0\n",
       " 1294    1.0\n",
       " 860     1.0\n",
       " 1126    1.0\n",
       " Name: FirstYearPersistence, Length: 1149, dtype: float32,\n",
       " 594     0.0\n",
       " 754     1.0\n",
       " 630     0.0\n",
       " 1137    1.0\n",
       " 905     0.0\n",
       "        ... \n",
       " 174     1.0\n",
       " 1429    1.0\n",
       " 297     1.0\n",
       " 1127    1.0\n",
       " 930     0.0\n",
       " Name: FirstYearPersistence, Length: 288, dtype: float32)"
      ]
     },
     "execution_count": 30,
     "metadata": {},
     "output_type": "execute_result"
    }
   ],
   "source": [
    "X_train, X_test, y_train, y_test"
   ]
  },
  {
   "cell_type": "code",
   "execution_count": 31,
   "id": "50209001",
   "metadata": {},
   "outputs": [
    {
     "data": {
      "text/plain": [
       "1.0    219\n",
       "0.0     69\n",
       "Name: FirstYearPersistence, dtype: int64"
      ]
     },
     "execution_count": 31,
     "metadata": {},
     "output_type": "execute_result"
    }
   ],
   "source": [
    "y_test.value_counts()"
   ]
  },
  {
   "cell_type": "markdown",
   "id": "05280940",
   "metadata": {},
   "source": [
    "### Model Creation"
   ]
  },
  {
   "cell_type": "code",
   "execution_count": 32,
   "id": "af3ed75a",
   "metadata": {},
   "outputs": [],
   "source": [
    "import tensorflow as tf"
   ]
  },
  {
   "cell_type": "code",
   "execution_count": 33,
   "id": "11c70d06",
   "metadata": {},
   "outputs": [
    {
     "name": "stdout",
     "output_type": "stream",
     "text": [
      "Model: \"sequential\"\n",
      "_________________________________________________________________\n",
      " Layer (type)                Output Shape              Param #   \n",
      "=================================================================\n",
      " dense (Dense)               (None, 9)                 81        \n",
      "                                                                 \n",
      " dense_1 (Dense)             (None, 6)                 60        \n",
      "                                                                 \n",
      " dense_2 (Dense)             (None, 4)                 28        \n",
      "                                                                 \n",
      " dense_3 (Dense)             (None, 2)                 10        \n",
      "                                                                 \n",
      " dense_4 (Dense)             (None, 1)                 3         \n",
      "                                                                 \n",
      "=================================================================\n",
      "Total params: 182 (728.00 Byte)\n",
      "Trainable params: 182 (728.00 Byte)\n",
      "Non-trainable params: 0 (0.00 Byte)\n",
      "_________________________________________________________________\n"
     ]
    }
   ],
   "source": [
    "model = tf.keras.Sequential([\n",
    "    tf.keras.layers.Dense(9, activation='relu', input_shape=(X_train.shape[1],)),\n",
    "    tf.keras.layers.Dense(6, activation='relu'),\n",
    "    tf.keras.layers.Dense(4, activation='relu'),\n",
    "    tf.keras.layers.Dense(2, activation='relu'),\n",
    "    tf.keras.layers.Dense(1, activation='sigmoid')\n",
    "])\n",
    "model.summary()\n"
   ]
  },
  {
   "cell_type": "code",
   "execution_count": 34,
   "id": "359b2fda",
   "metadata": {},
   "outputs": [],
   "source": [
    "model.compile(optimizer='adam', loss='binary_crossentropy', metrics=['accuracy'])"
   ]
  },
  {
   "cell_type": "code",
   "execution_count": 38,
   "id": "a0aec9b7",
   "metadata": {},
   "outputs": [
    {
     "name": "stdout",
     "output_type": "stream",
     "text": [
      "Epoch 1/100\n",
      "36/36 [==============================] - 0s 2ms/step - loss: 0.3282 - accuracy: 0.8721\n",
      "Epoch 2/100\n",
      "36/36 [==============================] - 0s 2ms/step - loss: 0.3282 - accuracy: 0.8738\n",
      "Epoch 3/100\n",
      "36/36 [==============================] - 0s 2ms/step - loss: 0.3276 - accuracy: 0.8747\n",
      "Epoch 4/100\n",
      "36/36 [==============================] - 0s 2ms/step - loss: 0.3275 - accuracy: 0.8747\n",
      "Epoch 5/100\n",
      "36/36 [==============================] - 0s 2ms/step - loss: 0.3268 - accuracy: 0.8738\n",
      "Epoch 6/100\n",
      "36/36 [==============================] - 0s 2ms/step - loss: 0.3279 - accuracy: 0.8721\n",
      "Epoch 7/100\n",
      "36/36 [==============================] - 0s 2ms/step - loss: 0.3266 - accuracy: 0.8738\n",
      "Epoch 8/100\n",
      "36/36 [==============================] - 0s 2ms/step - loss: 0.3267 - accuracy: 0.8738\n",
      "Epoch 9/100\n",
      "36/36 [==============================] - 0s 2ms/step - loss: 0.3259 - accuracy: 0.8755\n",
      "Epoch 10/100\n",
      "36/36 [==============================] - 0s 2ms/step - loss: 0.3256 - accuracy: 0.8738\n",
      "Epoch 11/100\n",
      "36/36 [==============================] - 0s 2ms/step - loss: 0.3256 - accuracy: 0.8721\n",
      "Epoch 12/100\n",
      "36/36 [==============================] - 0s 2ms/step - loss: 0.3255 - accuracy: 0.8738\n",
      "Epoch 13/100\n",
      "36/36 [==============================] - 0s 1ms/step - loss: 0.3252 - accuracy: 0.8755\n",
      "Epoch 14/100\n",
      "36/36 [==============================] - 0s 2ms/step - loss: 0.3251 - accuracy: 0.8755\n",
      "Epoch 15/100\n",
      "36/36 [==============================] - 0s 2ms/step - loss: 0.3246 - accuracy: 0.8755\n",
      "Epoch 16/100\n",
      "36/36 [==============================] - 0s 2ms/step - loss: 0.3244 - accuracy: 0.8747\n",
      "Epoch 17/100\n",
      "36/36 [==============================] - 0s 2ms/step - loss: 0.3245 - accuracy: 0.8738\n",
      "Epoch 18/100\n",
      "36/36 [==============================] - 0s 2ms/step - loss: 0.3241 - accuracy: 0.8747\n",
      "Epoch 19/100\n",
      "36/36 [==============================] - 0s 1ms/step - loss: 0.3249 - accuracy: 0.8738\n",
      "Epoch 20/100\n",
      "36/36 [==============================] - 0s 2ms/step - loss: 0.3245 - accuracy: 0.8738\n",
      "Epoch 21/100\n",
      "36/36 [==============================] - 0s 2ms/step - loss: 0.3235 - accuracy: 0.8755\n",
      "Epoch 22/100\n",
      "36/36 [==============================] - 0s 2ms/step - loss: 0.3233 - accuracy: 0.8755\n",
      "Epoch 23/100\n",
      "36/36 [==============================] - 0s 2ms/step - loss: 0.3238 - accuracy: 0.8755\n",
      "Epoch 24/100\n",
      "36/36 [==============================] - 0s 1ms/step - loss: 0.3228 - accuracy: 0.8755\n",
      "Epoch 25/100\n",
      "36/36 [==============================] - 0s 2ms/step - loss: 0.3231 - accuracy: 0.8755\n",
      "Epoch 26/100\n",
      "36/36 [==============================] - 0s 2ms/step - loss: 0.3227 - accuracy: 0.8729\n",
      "Epoch 27/100\n",
      "36/36 [==============================] - 0s 2ms/step - loss: 0.3222 - accuracy: 0.8747\n",
      "Epoch 28/100\n",
      "36/36 [==============================] - 0s 2ms/step - loss: 0.3223 - accuracy: 0.8755\n",
      "Epoch 29/100\n",
      "36/36 [==============================] - 0s 2ms/step - loss: 0.3224 - accuracy: 0.8738\n",
      "Epoch 30/100\n",
      "36/36 [==============================] - 0s 2ms/step - loss: 0.3216 - accuracy: 0.8755\n",
      "Epoch 31/100\n",
      "36/36 [==============================] - 0s 1ms/step - loss: 0.3222 - accuracy: 0.8747\n",
      "Epoch 32/100\n",
      "36/36 [==============================] - 0s 2ms/step - loss: 0.3216 - accuracy: 0.8755\n",
      "Epoch 33/100\n",
      "36/36 [==============================] - 0s 1ms/step - loss: 0.3218 - accuracy: 0.8747\n",
      "Epoch 34/100\n",
      "36/36 [==============================] - 0s 2ms/step - loss: 0.3217 - accuracy: 0.8755\n",
      "Epoch 35/100\n",
      "36/36 [==============================] - 0s 2ms/step - loss: 0.3208 - accuracy: 0.8747\n",
      "Epoch 36/100\n",
      "36/36 [==============================] - 0s 2ms/step - loss: 0.3205 - accuracy: 0.8755\n",
      "Epoch 37/100\n",
      "36/36 [==============================] - 0s 2ms/step - loss: 0.3213 - accuracy: 0.8747\n",
      "Epoch 38/100\n",
      "36/36 [==============================] - 0s 2ms/step - loss: 0.3204 - accuracy: 0.8738\n",
      "Epoch 39/100\n",
      "36/36 [==============================] - 0s 2ms/step - loss: 0.3213 - accuracy: 0.8747\n",
      "Epoch 40/100\n",
      "36/36 [==============================] - 0s 2ms/step - loss: 0.3204 - accuracy: 0.8755\n",
      "Epoch 41/100\n",
      "36/36 [==============================] - 0s 2ms/step - loss: 0.3203 - accuracy: 0.8755\n",
      "Epoch 42/100\n",
      "36/36 [==============================] - 0s 2ms/step - loss: 0.3197 - accuracy: 0.8729\n",
      "Epoch 43/100\n",
      "36/36 [==============================] - 0s 2ms/step - loss: 0.3197 - accuracy: 0.8755\n",
      "Epoch 44/100\n",
      "36/36 [==============================] - 0s 2ms/step - loss: 0.3197 - accuracy: 0.8738\n",
      "Epoch 45/100\n",
      "36/36 [==============================] - 0s 2ms/step - loss: 0.3196 - accuracy: 0.8747\n",
      "Epoch 46/100\n",
      "36/36 [==============================] - 0s 2ms/step - loss: 0.3195 - accuracy: 0.8755\n",
      "Epoch 47/100\n",
      "36/36 [==============================] - 0s 4ms/step - loss: 0.3197 - accuracy: 0.8729\n",
      "Epoch 48/100\n",
      "36/36 [==============================] - 0s 3ms/step - loss: 0.3199 - accuracy: 0.8755\n",
      "Epoch 49/100\n",
      "36/36 [==============================] - 0s 4ms/step - loss: 0.3192 - accuracy: 0.8721\n",
      "Epoch 50/100\n",
      "36/36 [==============================] - 0s 4ms/step - loss: 0.3194 - accuracy: 0.8755\n",
      "Epoch 51/100\n",
      "36/36 [==============================] - 0s 4ms/step - loss: 0.3187 - accuracy: 0.8738\n",
      "Epoch 52/100\n",
      "36/36 [==============================] - 0s 4ms/step - loss: 0.3179 - accuracy: 0.8747\n",
      "Epoch 53/100\n",
      "36/36 [==============================] - 0s 4ms/step - loss: 0.3181 - accuracy: 0.8747\n",
      "Epoch 54/100\n",
      "36/36 [==============================] - 0s 3ms/step - loss: 0.3184 - accuracy: 0.8773\n",
      "Epoch 55/100\n",
      "36/36 [==============================] - 0s 4ms/step - loss: 0.3178 - accuracy: 0.8721\n",
      "Epoch 56/100\n",
      "36/36 [==============================] - 0s 4ms/step - loss: 0.3177 - accuracy: 0.8738\n",
      "Epoch 57/100\n",
      "36/36 [==============================] - 0s 4ms/step - loss: 0.3181 - accuracy: 0.8755\n",
      "Epoch 58/100\n",
      "36/36 [==============================] - 0s 4ms/step - loss: 0.3176 - accuracy: 0.8747\n",
      "Epoch 59/100\n",
      "36/36 [==============================] - 0s 3ms/step - loss: 0.3174 - accuracy: 0.8747\n",
      "Epoch 60/100\n",
      "36/36 [==============================] - 0s 4ms/step - loss: 0.3174 - accuracy: 0.8747\n",
      "Epoch 61/100\n",
      "36/36 [==============================] - 0s 4ms/step - loss: 0.3175 - accuracy: 0.8755\n",
      "Epoch 62/100\n",
      "36/36 [==============================] - 0s 4ms/step - loss: 0.3177 - accuracy: 0.8738\n",
      "Epoch 63/100\n",
      "36/36 [==============================] - 0s 4ms/step - loss: 0.3172 - accuracy: 0.8738\n",
      "Epoch 64/100\n",
      "36/36 [==============================] - 0s 4ms/step - loss: 0.3170 - accuracy: 0.8755\n",
      "Epoch 65/100\n",
      "36/36 [==============================] - 0s 4ms/step - loss: 0.3166 - accuracy: 0.8712\n",
      "Epoch 66/100\n",
      "36/36 [==============================] - 0s 3ms/step - loss: 0.3166 - accuracy: 0.8747\n",
      "Epoch 67/100\n",
      "36/36 [==============================] - 0s 4ms/step - loss: 0.3160 - accuracy: 0.8747\n",
      "Epoch 68/100\n",
      "36/36 [==============================] - 0s 4ms/step - loss: 0.3163 - accuracy: 0.8747\n",
      "Epoch 69/100\n",
      "36/36 [==============================] - 0s 3ms/step - loss: 0.3163 - accuracy: 0.8738\n",
      "Epoch 70/100\n",
      "36/36 [==============================] - 0s 3ms/step - loss: 0.3163 - accuracy: 0.8747\n",
      "Epoch 71/100\n",
      "36/36 [==============================] - 0s 4ms/step - loss: 0.3158 - accuracy: 0.8773\n",
      "Epoch 72/100\n",
      "36/36 [==============================] - 0s 4ms/step - loss: 0.3160 - accuracy: 0.8729\n",
      "Epoch 73/100\n",
      "36/36 [==============================] - 0s 4ms/step - loss: 0.3157 - accuracy: 0.8747\n",
      "Epoch 74/100\n",
      "36/36 [==============================] - 0s 4ms/step - loss: 0.3156 - accuracy: 0.8764\n",
      "Epoch 75/100\n",
      "36/36 [==============================] - 0s 4ms/step - loss: 0.3159 - accuracy: 0.8712\n",
      "Epoch 76/100\n",
      "36/36 [==============================] - 0s 3ms/step - loss: 0.3155 - accuracy: 0.8738\n",
      "Epoch 77/100\n",
      "36/36 [==============================] - 0s 4ms/step - loss: 0.3153 - accuracy: 0.8738\n",
      "Epoch 78/100\n",
      "36/36 [==============================] - 0s 4ms/step - loss: 0.3150 - accuracy: 0.8755\n",
      "Epoch 79/100\n",
      "36/36 [==============================] - 0s 4ms/step - loss: 0.3141 - accuracy: 0.8755\n",
      "Epoch 80/100\n",
      "36/36 [==============================] - 0s 4ms/step - loss: 0.3146 - accuracy: 0.8773\n",
      "Epoch 81/100\n",
      "36/36 [==============================] - 0s 4ms/step - loss: 0.3139 - accuracy: 0.8738\n",
      "Epoch 82/100\n",
      "36/36 [==============================] - 0s 4ms/step - loss: 0.3139 - accuracy: 0.8755\n",
      "Epoch 83/100\n"
     ]
    },
    {
     "name": "stdout",
     "output_type": "stream",
     "text": [
      "36/36 [==============================] - 0s 4ms/step - loss: 0.3142 - accuracy: 0.8764\n",
      "Epoch 84/100\n",
      "36/36 [==============================] - 0s 3ms/step - loss: 0.3140 - accuracy: 0.8764\n",
      "Epoch 85/100\n",
      "36/36 [==============================] - 0s 4ms/step - loss: 0.3135 - accuracy: 0.8773\n",
      "Epoch 86/100\n",
      "36/36 [==============================] - 0s 4ms/step - loss: 0.3132 - accuracy: 0.8747\n",
      "Epoch 87/100\n",
      "36/36 [==============================] - 0s 3ms/step - loss: 0.3127 - accuracy: 0.8755\n",
      "Epoch 88/100\n",
      "36/36 [==============================] - 0s 4ms/step - loss: 0.3133 - accuracy: 0.8729\n",
      "Epoch 89/100\n",
      "36/36 [==============================] - 0s 4ms/step - loss: 0.3128 - accuracy: 0.8738\n",
      "Epoch 90/100\n",
      "36/36 [==============================] - 0s 4ms/step - loss: 0.3125 - accuracy: 0.8773\n",
      "Epoch 91/100\n",
      "36/36 [==============================] - 0s 4ms/step - loss: 0.3123 - accuracy: 0.8747\n",
      "Epoch 92/100\n",
      "36/36 [==============================] - 0s 3ms/step - loss: 0.3124 - accuracy: 0.8764\n",
      "Epoch 93/100\n",
      "36/36 [==============================] - 0s 4ms/step - loss: 0.3127 - accuracy: 0.8755\n",
      "Epoch 94/100\n",
      "36/36 [==============================] - 0s 4ms/step - loss: 0.3121 - accuracy: 0.8721\n",
      "Epoch 95/100\n",
      "36/36 [==============================] - 0s 4ms/step - loss: 0.3122 - accuracy: 0.8747\n",
      "Epoch 96/100\n",
      "36/36 [==============================] - 0s 4ms/step - loss: 0.3112 - accuracy: 0.8747\n",
      "Epoch 97/100\n",
      "36/36 [==============================] - 0s 3ms/step - loss: 0.3119 - accuracy: 0.8747\n",
      "Epoch 98/100\n",
      "36/36 [==============================] - 0s 3ms/step - loss: 0.3110 - accuracy: 0.8755\n",
      "Epoch 99/100\n",
      "36/36 [==============================] - 0s 4ms/step - loss: 0.3108 - accuracy: 0.8747\n",
      "Epoch 100/100\n",
      "36/36 [==============================] - 0s 4ms/step - loss: 0.3106 - accuracy: 0.8764\n"
     ]
    },
    {
     "data": {
      "text/plain": [
       "<keras.src.callbacks.History at 0x2a97ff26250>"
      ]
     },
     "execution_count": 38,
     "metadata": {},
     "output_type": "execute_result"
    }
   ],
   "source": [
    "model.fit(X_train, y_train, epochs=100, batch_size=32, verbose=1)"
   ]
  },
  {
   "cell_type": "code",
   "execution_count": 39,
   "id": "87550d23",
   "metadata": {},
   "outputs": [],
   "source": [
    "test_loss, test_accuracy = model.evaluate(X_test, y_test, verbose=0)\n",
    "train_loss, train_accuracy = model.evaluate(X_train, y_train, verbose=0)"
   ]
  },
  {
   "cell_type": "code",
   "execution_count": 40,
   "id": "60e9d70f",
   "metadata": {},
   "outputs": [
    {
     "name": "stdout",
     "output_type": "stream",
     "text": [
      "Training Accuracy: 87.55%\n",
      "Testing Accuracy: 84.03%\n"
     ]
    }
   ],
   "source": [
    "print(f\"Training Accuracy: {train_accuracy * 100:.2f}%\")\n",
    "print(f\"Testing Accuracy: {test_accuracy * 100:.2f}%\")"
   ]
  },
  {
   "cell_type": "code",
   "execution_count": null,
   "id": "69d57d87",
   "metadata": {},
   "outputs": [],
   "source": []
  }
 ],
 "metadata": {
  "kernelspec": {
   "display_name": "Python 3 (ipykernel)",
   "language": "python",
   "name": "python3"
  },
  "language_info": {
   "codemirror_mode": {
    "name": "ipython",
    "version": 3
   },
   "file_extension": ".py",
   "mimetype": "text/x-python",
   "name": "python",
   "nbconvert_exporter": "python",
   "pygments_lexer": "ipython3",
   "version": "3.11.4"
  }
 },
 "nbformat": 4,
 "nbformat_minor": 5
}

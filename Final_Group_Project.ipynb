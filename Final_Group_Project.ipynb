{
 "cells": [
  {
   "cell_type": "code",
   "execution_count": 1,
   "id": "c05fce88",
   "metadata": {},
   "outputs": [],
   "source": [
    "import pandas as pd\n",
    "import numpy as np\n",
    "import matplotlib.pyplot as plt"
   ]
  },
  {
   "cell_type": "code",
   "execution_count": 2,
   "id": "beb90b0e",
   "metadata": {},
   "outputs": [],
   "source": [
    "df = pd.read_csv(\"D:\\CC\\SEM 3\\COMP 258 Neural Networks\\Assignments\\Group Project\\Student data.csv\")"
   ]
  },
  {
   "cell_type": "code",
   "execution_count": 3,
   "id": "35ab5a6f",
   "metadata": {},
   "outputs": [
    {
     "data": {
      "text/html": [
       "<div>\n",
       "<style scoped>\n",
       "    .dataframe tbody tr th:only-of-type {\n",
       "        vertical-align: middle;\n",
       "    }\n",
       "\n",
       "    .dataframe tbody tr th {\n",
       "        vertical-align: top;\n",
       "    }\n",
       "\n",
       "    .dataframe thead th {\n",
       "        text-align: right;\n",
       "    }\n",
       "</style>\n",
       "<table border=\"1\" class=\"dataframe\">\n",
       "  <thead>\n",
       "    <tr style=\"text-align: right;\">\n",
       "      <th></th>\n",
       "      <th>First Term Gpa</th>\n",
       "      <th>Second Term Gpa</th>\n",
       "      <th>First Language</th>\n",
       "      <th>Funding</th>\n",
       "      <th>School</th>\n",
       "      <th>FastTrack</th>\n",
       "      <th>Coop</th>\n",
       "      <th>Residency</th>\n",
       "      <th>Gender</th>\n",
       "      <th>Previous Education</th>\n",
       "      <th>Age Group</th>\n",
       "      <th>High School</th>\n",
       "      <th>Math Score</th>\n",
       "      <th>English Grade</th>\n",
       "      <th>FirstYearPersistence</th>\n",
       "    </tr>\n",
       "  </thead>\n",
       "  <tbody>\n",
       "    <tr>\n",
       "      <th>0</th>\n",
       "      <td>0</td>\n",
       "      <td>0</td>\n",
       "      <td>1</td>\n",
       "      <td>2</td>\n",
       "      <td>6</td>\n",
       "      <td>2</td>\n",
       "      <td>1</td>\n",
       "      <td>1</td>\n",
       "      <td>2</td>\n",
       "      <td>1</td>\n",
       "      <td>1</td>\n",
       "      <td>59</td>\n",
       "      <td>16</td>\n",
       "      <td>7</td>\n",
       "      <td>1</td>\n",
       "    </tr>\n",
       "    <tr>\n",
       "      <th>1</th>\n",
       "      <td>2.5</td>\n",
       "      <td>2</td>\n",
       "      <td>3</td>\n",
       "      <td>4</td>\n",
       "      <td>6</td>\n",
       "      <td>1</td>\n",
       "      <td>2</td>\n",
       "      <td>2</td>\n",
       "      <td>2</td>\n",
       "      <td>1</td>\n",
       "      <td>3</td>\n",
       "      <td>?</td>\n",
       "      <td>?</td>\n",
       "      <td>7</td>\n",
       "      <td>1</td>\n",
       "    </tr>\n",
       "    <tr>\n",
       "      <th>2</th>\n",
       "      <td>4.25</td>\n",
       "      <td>3.923077</td>\n",
       "      <td>1</td>\n",
       "      <td>1</td>\n",
       "      <td>6</td>\n",
       "      <td>2</td>\n",
       "      <td>1</td>\n",
       "      <td>1</td>\n",
       "      <td>1</td>\n",
       "      <td>2</td>\n",
       "      <td>3</td>\n",
       "      <td>92</td>\n",
       "      <td>41</td>\n",
       "      <td>9</td>\n",
       "      <td>1</td>\n",
       "    </tr>\n",
       "    <tr>\n",
       "      <th>3</th>\n",
       "      <td>3.020833</td>\n",
       "      <td>2.321429</td>\n",
       "      <td>3</td>\n",
       "      <td>4</td>\n",
       "      <td>6</td>\n",
       "      <td>1</td>\n",
       "      <td>2</td>\n",
       "      <td>2</td>\n",
       "      <td>2</td>\n",
       "      <td>2</td>\n",
       "      <td>3</td>\n",
       "      <td>?</td>\n",
       "      <td>?</td>\n",
       "      <td>8</td>\n",
       "      <td>1</td>\n",
       "    </tr>\n",
       "    <tr>\n",
       "      <th>4</th>\n",
       "      <td>4.275</td>\n",
       "      <td>4.326923</td>\n",
       "      <td>1</td>\n",
       "      <td>2</td>\n",
       "      <td>6</td>\n",
       "      <td>1</td>\n",
       "      <td>1</td>\n",
       "      <td>1</td>\n",
       "      <td>1</td>\n",
       "      <td>2</td>\n",
       "      <td>3</td>\n",
       "      <td>97</td>\n",
       "      <td>?</td>\n",
       "      <td>9</td>\n",
       "      <td>1</td>\n",
       "    </tr>\n",
       "  </tbody>\n",
       "</table>\n",
       "</div>"
      ],
      "text/plain": [
       "  First Term Gpa Second Term Gpa First Language  Funding  School  FastTrack  \\\n",
       "0              0               0              1        2       6          2   \n",
       "1            2.5               2              3        4       6          1   \n",
       "2           4.25        3.923077              1        1       6          2   \n",
       "3       3.020833        2.321429              3        4       6          1   \n",
       "4          4.275        4.326923              1        2       6          1   \n",
       "\n",
       "   Coop  Residency  Gender Previous Education Age Group High School  \\\n",
       "0     1          1       2                  1         1          59   \n",
       "1     2          2       2                  1         3           ?   \n",
       "2     1          1       1                  2         3          92   \n",
       "3     2          2       2                  2         3           ?   \n",
       "4     1          1       1                  2         3          97   \n",
       "\n",
       "  Math Score English Grade  FirstYearPersistence  \n",
       "0         16             7                     1  \n",
       "1          ?             7                     1  \n",
       "2         41             9                     1  \n",
       "3          ?             8                     1  \n",
       "4          ?             9                     1  "
      ]
     },
     "execution_count": 3,
     "metadata": {},
     "output_type": "execute_result"
    }
   ],
   "source": [
    "df.head()"
   ]
  },
  {
   "cell_type": "code",
   "execution_count": 4,
   "id": "fb7061f8",
   "metadata": {},
   "outputs": [
    {
     "data": {
      "text/plain": [
       "(1437, 15)"
      ]
     },
     "execution_count": 4,
     "metadata": {},
     "output_type": "execute_result"
    }
   ],
   "source": [
    "df.shape"
   ]
  },
  {
   "cell_type": "code",
   "execution_count": 5,
   "id": "ec373c5a",
   "metadata": {},
   "outputs": [
    {
     "data": {
      "text/html": [
       "<div>\n",
       "<style scoped>\n",
       "    .dataframe tbody tr th:only-of-type {\n",
       "        vertical-align: middle;\n",
       "    }\n",
       "\n",
       "    .dataframe tbody tr th {\n",
       "        vertical-align: top;\n",
       "    }\n",
       "\n",
       "    .dataframe thead th {\n",
       "        text-align: right;\n",
       "    }\n",
       "</style>\n",
       "<table border=\"1\" class=\"dataframe\">\n",
       "  <thead>\n",
       "    <tr style=\"text-align: right;\">\n",
       "      <th></th>\n",
       "      <th>Funding</th>\n",
       "      <th>School</th>\n",
       "      <th>FastTrack</th>\n",
       "      <th>Coop</th>\n",
       "      <th>Residency</th>\n",
       "      <th>Gender</th>\n",
       "      <th>FirstYearPersistence</th>\n",
       "    </tr>\n",
       "  </thead>\n",
       "  <tbody>\n",
       "    <tr>\n",
       "      <th>count</th>\n",
       "      <td>1437.000000</td>\n",
       "      <td>1437.0</td>\n",
       "      <td>1437.000000</td>\n",
       "      <td>1437.000000</td>\n",
       "      <td>1437.000000</td>\n",
       "      <td>1437.000000</td>\n",
       "      <td>1437.000000</td>\n",
       "    </tr>\n",
       "    <tr>\n",
       "      <th>mean</th>\n",
       "      <td>2.926931</td>\n",
       "      <td>6.0</td>\n",
       "      <td>1.741823</td>\n",
       "      <td>1.695198</td>\n",
       "      <td>1.406402</td>\n",
       "      <td>1.774530</td>\n",
       "      <td>0.791928</td>\n",
       "    </tr>\n",
       "    <tr>\n",
       "      <th>std</th>\n",
       "      <td>1.257658</td>\n",
       "      <td>0.0</td>\n",
       "      <td>0.437784</td>\n",
       "      <td>0.460484</td>\n",
       "      <td>0.491332</td>\n",
       "      <td>0.419699</td>\n",
       "      <td>0.406070</td>\n",
       "    </tr>\n",
       "    <tr>\n",
       "      <th>min</th>\n",
       "      <td>1.000000</td>\n",
       "      <td>6.0</td>\n",
       "      <td>1.000000</td>\n",
       "      <td>1.000000</td>\n",
       "      <td>1.000000</td>\n",
       "      <td>1.000000</td>\n",
       "      <td>0.000000</td>\n",
       "    </tr>\n",
       "    <tr>\n",
       "      <th>25%</th>\n",
       "      <td>2.000000</td>\n",
       "      <td>6.0</td>\n",
       "      <td>1.000000</td>\n",
       "      <td>1.000000</td>\n",
       "      <td>1.000000</td>\n",
       "      <td>2.000000</td>\n",
       "      <td>1.000000</td>\n",
       "    </tr>\n",
       "    <tr>\n",
       "      <th>50%</th>\n",
       "      <td>2.000000</td>\n",
       "      <td>6.0</td>\n",
       "      <td>2.000000</td>\n",
       "      <td>2.000000</td>\n",
       "      <td>1.000000</td>\n",
       "      <td>2.000000</td>\n",
       "      <td>1.000000</td>\n",
       "    </tr>\n",
       "    <tr>\n",
       "      <th>75%</th>\n",
       "      <td>4.000000</td>\n",
       "      <td>6.0</td>\n",
       "      <td>2.000000</td>\n",
       "      <td>2.000000</td>\n",
       "      <td>2.000000</td>\n",
       "      <td>2.000000</td>\n",
       "      <td>1.000000</td>\n",
       "    </tr>\n",
       "    <tr>\n",
       "      <th>max</th>\n",
       "      <td>9.000000</td>\n",
       "      <td>6.0</td>\n",
       "      <td>2.000000</td>\n",
       "      <td>2.000000</td>\n",
       "      <td>2.000000</td>\n",
       "      <td>3.000000</td>\n",
       "      <td>1.000000</td>\n",
       "    </tr>\n",
       "  </tbody>\n",
       "</table>\n",
       "</div>"
      ],
      "text/plain": [
       "           Funding  School    FastTrack         Coop    Residency  \\\n",
       "count  1437.000000  1437.0  1437.000000  1437.000000  1437.000000   \n",
       "mean      2.926931     6.0     1.741823     1.695198     1.406402   \n",
       "std       1.257658     0.0     0.437784     0.460484     0.491332   \n",
       "min       1.000000     6.0     1.000000     1.000000     1.000000   \n",
       "25%       2.000000     6.0     1.000000     1.000000     1.000000   \n",
       "50%       2.000000     6.0     2.000000     2.000000     1.000000   \n",
       "75%       4.000000     6.0     2.000000     2.000000     2.000000   \n",
       "max       9.000000     6.0     2.000000     2.000000     2.000000   \n",
       "\n",
       "            Gender  FirstYearPersistence  \n",
       "count  1437.000000           1437.000000  \n",
       "mean      1.774530              0.791928  \n",
       "std       0.419699              0.406070  \n",
       "min       1.000000              0.000000  \n",
       "25%       2.000000              1.000000  \n",
       "50%       2.000000              1.000000  \n",
       "75%       2.000000              1.000000  \n",
       "max       3.000000              1.000000  "
      ]
     },
     "execution_count": 5,
     "metadata": {},
     "output_type": "execute_result"
    }
   ],
   "source": [
    "df.describe()"
   ]
  },
  {
   "cell_type": "code",
   "execution_count": 6,
   "id": "53fc9877",
   "metadata": {},
   "outputs": [
    {
     "name": "stdout",
     "output_type": "stream",
     "text": [
      "<class 'pandas.core.frame.DataFrame'>\n",
      "RangeIndex: 1437 entries, 0 to 1436\n",
      "Data columns (total 15 columns):\n",
      " #   Column                Non-Null Count  Dtype \n",
      "---  ------                --------------  ----- \n",
      " 0   First Term Gpa        1437 non-null   object\n",
      " 1   Second Term Gpa       1437 non-null   object\n",
      " 2   First Language        1437 non-null   object\n",
      " 3   Funding               1437 non-null   int64 \n",
      " 4   School                1437 non-null   int64 \n",
      " 5   FastTrack             1437 non-null   int64 \n",
      " 6   Coop                  1437 non-null   int64 \n",
      " 7   Residency             1437 non-null   int64 \n",
      " 8   Gender                1437 non-null   int64 \n",
      " 9   Previous Education    1437 non-null   object\n",
      " 10  Age Group             1437 non-null   object\n",
      " 11  High School           1437 non-null   object\n",
      " 12  Math Score            1437 non-null   object\n",
      " 13  English Grade         1437 non-null   object\n",
      " 14  FirstYearPersistence  1437 non-null   int64 \n",
      "dtypes: int64(7), object(8)\n",
      "memory usage: 168.5+ KB\n"
     ]
    }
   ],
   "source": [
    "df.info()"
   ]
  },
  {
   "cell_type": "markdown",
   "id": "531566a6",
   "metadata": {},
   "source": [
    "### Preprocessing"
   ]
  },
  {
   "cell_type": "code",
   "execution_count": 7,
   "id": "502cfe5d",
   "metadata": {},
   "outputs": [],
   "source": [
    "df.replace('?', np.nan, inplace=True)"
   ]
  },
  {
   "cell_type": "code",
   "execution_count": 8,
   "id": "bffc51fe",
   "metadata": {},
   "outputs": [
    {
     "name": "stdout",
     "output_type": "stream",
     "text": [
      "<class 'pandas.core.frame.DataFrame'>\n",
      "RangeIndex: 1437 entries, 0 to 1436\n",
      "Data columns (total 15 columns):\n",
      " #   Column                Non-Null Count  Dtype \n",
      "---  ------                --------------  ----- \n",
      " 0   First Term Gpa        1420 non-null   object\n",
      " 1   Second Term Gpa       1277 non-null   object\n",
      " 2   First Language        1326 non-null   object\n",
      " 3   Funding               1437 non-null   int64 \n",
      " 4   School                1437 non-null   int64 \n",
      " 5   FastTrack             1437 non-null   int64 \n",
      " 6   Coop                  1437 non-null   int64 \n",
      " 7   Residency             1437 non-null   int64 \n",
      " 8   Gender                1437 non-null   int64 \n",
      " 9   Previous Education    1433 non-null   object\n",
      " 10  Age Group             1433 non-null   object\n",
      " 11  High School           694 non-null    object\n",
      " 12  Math Score            975 non-null    object\n",
      " 13  English Grade         1392 non-null   object\n",
      " 14  FirstYearPersistence  1437 non-null   int64 \n",
      "dtypes: int64(7), object(8)\n",
      "memory usage: 168.5+ KB\n"
     ]
    }
   ],
   "source": [
    "df.info()"
   ]
  },
  {
   "cell_type": "code",
   "execution_count": 9,
   "id": "c9effeaf",
   "metadata": {},
   "outputs": [],
   "source": [
    "X = df.iloc[:, :13]\n",
    "y = df.iloc[:,14]"
   ]
  },
  {
   "cell_type": "code",
   "execution_count": 10,
   "id": "0c94d137",
   "metadata": {},
   "outputs": [],
   "source": [
    "from sklearn.impute import SimpleImputer"
   ]
  },
  {
   "cell_type": "code",
   "execution_count": 11,
   "id": "b43f0678",
   "metadata": {},
   "outputs": [],
   "source": [
    "impute = SimpleImputer(missing_values=np.nan, strategy='mean', fill_value=None)"
   ]
  },
  {
   "cell_type": "code",
   "execution_count": 12,
   "id": "cb9e3250",
   "metadata": {},
   "outputs": [],
   "source": [
    "imputed_X = impute.fit_transform(X)"
   ]
  },
  {
   "cell_type": "code",
   "execution_count": 13,
   "id": "f36961b0",
   "metadata": {},
   "outputs": [
    {
     "data": {
      "text/plain": [
       "array([[ 0.        ,  0.        ,  1.        , ...,  1.        ,\n",
       "        59.        , 16.        ],\n",
       "       [ 2.5       ,  2.        ,  3.        , ...,  3.        ,\n",
       "        77.15273775, 32.55794872],\n",
       "       [ 4.25      ,  3.923077  ,  1.        , ...,  3.        ,\n",
       "        92.        , 41.        ],\n",
       "       ...,\n",
       "       [ 2.020833  ,  2.45      ,  1.        , ...,  1.        ,\n",
       "        78.        , 18.        ],\n",
       "       [ 4.021739  ,  4.357143  ,  1.91101056, ...,  2.        ,\n",
       "        77.15273775, 46.        ],\n",
       "       [ 2.133333  ,  3.205882  ,  1.        , ...,  1.        ,\n",
       "        81.        , 27.        ]])"
      ]
     },
     "execution_count": 13,
     "metadata": {},
     "output_type": "execute_result"
    }
   ],
   "source": [
    "imputed_X"
   ]
  },
  {
   "cell_type": "code",
   "execution_count": 14,
   "id": "425bd63a",
   "metadata": {},
   "outputs": [],
   "source": [
    "from sklearn.preprocessing import StandardScaler"
   ]
  },
  {
   "cell_type": "code",
   "execution_count": 15,
   "id": "578d39b0",
   "metadata": {},
   "outputs": [],
   "source": [
    "scaler = StandardScaler()"
   ]
  },
  {
   "cell_type": "code",
   "execution_count": 16,
   "id": "98a6bdcc",
   "metadata": {},
   "outputs": [],
   "source": [
    "scaled_X = scaler.fit_transform(imputed_X)"
   ]
  },
  {
   "cell_type": "code",
   "execution_count": 17,
   "id": "1dfbb013",
   "metadata": {},
   "outputs": [
    {
     "data": {
      "text/plain": [
       "array([[-2.43730190e+00, -2.65171565e+00, -9.53603358e-01, ...,\n",
       "        -1.14978963e+00, -2.16519662e+00, -1.87796704e+00],\n",
       "       [-2.96367874e-01, -7.71183337e-01,  1.13990335e+00, ...,\n",
       "         2.59661644e-01,  0.00000000e+00,  8.05882336e-16],\n",
       "       [ 1.20228595e+00,  1.03702088e+00, -9.53603358e-01, ...,\n",
       "         2.59661644e-01,  1.77093078e+00,  9.57479356e-01],\n",
       "       ...,\n",
       "       [-7.06713848e-01, -3.48063568e-01, -9.53603358e-01, ...,\n",
       "        -1.14978963e+00,  1.01058550e-01, -1.65113133e+00],\n",
       "       [ 1.00680925e+00,  1.44515845e+00, -2.32425935e-16, ...,\n",
       "        -4.45063993e-01,  0.00000000e+00,  1.52456864e+00],\n",
       "       [-6.10371817e-01,  3.62666694e-01, -9.53603358e-01, ...,\n",
       "        -1.14978963e+00,  4.58888313e-01, -6.30370627e-01]])"
      ]
     },
     "execution_count": 17,
     "metadata": {},
     "output_type": "execute_result"
    }
   ],
   "source": [
    "scaled_X"
   ]
  },
  {
   "cell_type": "markdown",
   "id": "eb7b245c",
   "metadata": {},
   "source": [
    "### train test split"
   ]
  },
  {
   "cell_type": "code",
   "execution_count": 18,
   "id": "80e0c84a",
   "metadata": {},
   "outputs": [],
   "source": [
    "from sklearn.model_selection import train_test_split"
   ]
  },
  {
   "cell_type": "code",
   "execution_count": 19,
   "id": "46afc748",
   "metadata": {},
   "outputs": [],
   "source": [
    "X_train, X_test, y_train, y_test = train_test_split(scaled_X, y, test_size=0.2, random_state=42)"
   ]
  },
  {
   "cell_type": "code",
   "execution_count": 20,
   "id": "8e14bd35",
   "metadata": {},
   "outputs": [
    {
     "data": {
      "text/plain": [
       "(array([[ 1.14594598e+00,  1.08584232e+00, -9.53603358e-01, ...,\n",
       "          2.59661644e-01,  5.78164901e-01, -2.90117059e-01],\n",
       "        [-5.37222952e-01, -4.24770677e-02, -9.53603358e-01, ...,\n",
       "          1.66911292e+00, -1.92664344e+00, -1.53771347e+00],\n",
       "        [-5.19770058e-01,  2.58631885e-01,  1.13990335e+00, ...,\n",
       "         -1.14978963e+00,  5.78164901e-01,  6.17225788e-01],\n",
       "        ...,\n",
       "        [-2.25003691e-01,  4.25088887e-02,  1.13990335e+00, ...,\n",
       "          2.59661644e-01,  0.00000000e+00,  8.05882336e-16],\n",
       "        [ 4.61815711e-02,  4.53624006e-03, -9.53603358e-01, ...,\n",
       "         -1.14978963e+00, -3.76047801e-01,  3.90390076e-01],\n",
       "        [ 5.38596398e-01,  5.96476096e-01,  1.13990335e+00, ...,\n",
       "          9.64387282e-01,  0.00000000e+00,  8.05882336e-16]]),\n",
       " array([[-5.70407430e-01, -1.17863169e+00, -9.53603358e-01, ...,\n",
       "         -4.45063993e-01, -1.44953709e+00,  8.05882336e-16],\n",
       "        [-4.84770068e-01, -8.52946061e-01, -9.53603358e-01, ...,\n",
       "         -1.14978963e+00, -6.14600977e-01, -9.70624195e-01],\n",
       "        [-2.21389972e+00, -2.65171565e+00, -9.53603358e-01, ...,\n",
       "         -4.45063993e-01, -3.83506885e+00, -1.65113133e+00],\n",
       "        ...,\n",
       "        [-7.63481142e-01,  2.86616086e-01, -9.53603358e-01, ...,\n",
       "          2.59661644e-01, -1.37494626e-01,  5.01365086e-02],\n",
       "        [ 6.45643100e-01,  8.97789087e-01, -2.32425935e-16, ...,\n",
       "          9.64387282e-01,  0.00000000e+00,  8.05882336e-16],\n",
       "        [-7.24554680e-01, -2.65171565e+00,  1.13990335e+00, ...,\n",
       "         -1.14978963e+00, -2.40374979e+00, -4.03534915e-01]]),\n",
       " 901     1\n",
       " 1405    1\n",
       " 310     1\n",
       " 1146    1\n",
       " 31      1\n",
       "        ..\n",
       " 1095    1\n",
       " 1130    1\n",
       " 1294    1\n",
       " 860     1\n",
       " 1126    1\n",
       " Name: FirstYearPersistence, Length: 1149, dtype: int64,\n",
       " 594     0\n",
       " 754     1\n",
       " 630     0\n",
       " 1137    1\n",
       " 905     0\n",
       "        ..\n",
       " 174     1\n",
       " 1429    1\n",
       " 297     1\n",
       " 1127    1\n",
       " 930     0\n",
       " Name: FirstYearPersistence, Length: 288, dtype: int64)"
      ]
     },
     "execution_count": 20,
     "metadata": {},
     "output_type": "execute_result"
    }
   ],
   "source": [
    "X_train, X_test, y_train, y_test"
   ]
  },
  {
   "cell_type": "markdown",
   "id": "05280940",
   "metadata": {},
   "source": [
    "### Model Creation"
   ]
  },
  {
   "cell_type": "code",
   "execution_count": 21,
   "id": "af3ed75a",
   "metadata": {},
   "outputs": [],
   "source": [
    "import tensorflow as tf"
   ]
  },
  {
   "cell_type": "code",
   "execution_count": 23,
   "id": "11c70d06",
   "metadata": {},
   "outputs": [
    {
     "name": "stdout",
     "output_type": "stream",
     "text": [
      "Model: \"sequential_1\"\n",
      "_________________________________________________________________\n",
      " Layer (type)                Output Shape              Param #   \n",
      "=================================================================\n",
      " dense_5 (Dense)             (None, 9)                 126       \n",
      "                                                                 \n",
      " dense_6 (Dense)             (None, 6)                 60        \n",
      "                                                                 \n",
      " dense_7 (Dense)             (None, 4)                 28        \n",
      "                                                                 \n",
      " dense_8 (Dense)             (None, 2)                 10        \n",
      "                                                                 \n",
      " dense_9 (Dense)             (None, 1)                 3         \n",
      "                                                                 \n",
      "=================================================================\n",
      "Total params: 227 (908.00 Byte)\n",
      "Trainable params: 227 (908.00 Byte)\n",
      "Non-trainable params: 0 (0.00 Byte)\n",
      "_________________________________________________________________\n"
     ]
    }
   ],
   "source": [
    "#hidden_layer_size = 9\n",
    "model = tf.keras.Sequential([\n",
    "    tf.keras.layers.Dense(9, activation='relu', input_shape=(X_train.shape[1],)),\n",
    "    tf.keras.layers.Dense(6, activation='relu'),\n",
    "    tf.keras.layers.Dense(4, activation='relu'),\n",
    "    tf.keras.layers.Dense(2, activation='relu'),\n",
    "    tf.keras.layers.Dense(1, activation='sigmoid')\n",
    "])\n",
    "model.summary()\n"
   ]
  },
  {
   "cell_type": "code",
   "execution_count": null,
   "id": "359b2fda",
   "metadata": {},
   "outputs": [],
   "source": []
  }
 ],
 "metadata": {
  "kernelspec": {
   "display_name": "Python 3 (ipykernel)",
   "language": "python",
   "name": "python3"
  },
  "language_info": {
   "codemirror_mode": {
    "name": "ipython",
    "version": 3
   },
   "file_extension": ".py",
   "mimetype": "text/x-python",
   "name": "python",
   "nbconvert_exporter": "python",
   "pygments_lexer": "ipython3",
   "version": "3.11.4"
  }
 },
 "nbformat": 4,
 "nbformat_minor": 5
}
